{
 "cells": [
  {
   "cell_type": "code",
   "execution_count": 1,
   "metadata": {},
   "outputs": [],
   "source": [
    "# To print a sentence about each river runs through river using dictionary"
   ]
  },
  {
   "cell_type": "code",
   "execution_count": 15,
   "metadata": {},
   "outputs": [],
   "source": [
    "river_country={'Amazon':'Brazil','Ganga':'India','Mississipi':'USA','Yellow':'Haung-he'}"
   ]
  },
  {
   "cell_type": "code",
   "execution_count": 16,
   "metadata": {},
   "outputs": [
    {
     "name": "stdout",
     "output_type": "stream",
     "text": [
      "The Amazon runs through Brazil\n",
      "The Ganga runs through India\n",
      "The Mississipi runs through USA\n",
      "The Yellow runs through Haung-he\n"
     ]
    }
   ],
   "source": [
    "for x,y in river_country.items():\n",
    "    print(f\"The {x} runs through {y}\")"
   ]
  },
  {
   "cell_type": "code",
   "execution_count": 12,
   "metadata": {},
   "outputs": [],
   "source": [
    "# To print the name of each river in the dictionary:"
   ]
  },
  {
   "cell_type": "code",
   "execution_count": 33,
   "metadata": {},
   "outputs": [
    {
     "name": "stdout",
     "output_type": "stream",
     "text": [
      "the river Amazon\n",
      "the river Ganga\n",
      "the river Mississipi\n",
      "the river Yellow\n"
     ]
    }
   ],
   "source": [
    "for river in river_country.keys():\n",
    "    print(f\"the river {river}\")"
   ]
  },
  {
   "cell_type": "code",
   "execution_count": 18,
   "metadata": {},
   "outputs": [],
   "source": [
    "# TO print the name of each country in the dictionary:"
   ]
  },
  {
   "cell_type": "code",
   "execution_count": 35,
   "metadata": {},
   "outputs": [
    {
     "name": "stdout",
     "output_type": "stream",
     "text": [
      "the country Brazil\n",
      "the country India\n",
      "the country USA\n",
      "the country Haung-he\n"
     ]
    }
   ],
   "source": [
    "for country in river_country.values():\n",
    "    print(f\"the country {country}\" )"
   ]
  },
  {
   "cell_type": "code",
   "execution_count": null,
   "metadata": {},
   "outputs": [],
   "source": []
  },
  {
   "cell_type": "code",
   "execution_count": null,
   "metadata": {},
   "outputs": [],
   "source": [
    "# creating dictionary name as favorite_places and printing names"
   ]
  },
  {
   "cell_type": "code",
   "execution_count": 25,
   "metadata": {},
   "outputs": [],
   "source": [
    "favorite_places={'Sneha':'Mysore','kiran':'agumbe','pari':'gokarna','neesa':'newyork'}"
   ]
  },
  {
   "cell_type": "code",
   "execution_count": 41,
   "metadata": {},
   "outputs": [
    {
     "name": "stdout",
     "output_type": "stream",
     "text": [
      "Sneha favorite place is Mysore\n",
      "kiran favorite place is agumbe\n",
      "pari favorite place is gokarna\n",
      "neesa favorite place is newyork\n"
     ]
    }
   ],
   "source": [
    "for x,y in favorite_places.items():\n",
    "    print(f\"{x} favorite place is {y}\")"
   ]
  },
  {
   "cell_type": "code",
   "execution_count": 37,
   "metadata": {},
   "outputs": [
    {
     "name": "stdout",
     "output_type": "stream",
     "text": [
      "the name of each person Sneha\n",
      "the name of each person kiran\n",
      "the name of each person pari\n",
      "the name of each person neesa\n"
     ]
    }
   ],
   "source": [
    "for name in favorite_places.keys():\n",
    "    print(f\"the name of each person {name}\" )"
   ]
  },
  {
   "cell_type": "code",
   "execution_count": 39,
   "metadata": {},
   "outputs": [
    {
     "name": "stdout",
     "output_type": "stream",
     "text": [
      "the favorite place of each person is Mysore\n",
      "the favorite place of each person is agumbe\n",
      "the favorite place of each person is gokarna\n",
      "the favorite place of each person is newyork\n"
     ]
    }
   ],
   "source": [
    "for place in favorite_places.values():\n",
    "    print(f\"the favorite place of each person is {place}\" )"
   ]
  },
  {
   "cell_type": "code",
   "execution_count": null,
   "metadata": {},
   "outputs": [],
   "source": []
  },
  {
   "cell_type": "code",
   "execution_count": null,
   "metadata": {},
   "outputs": [],
   "source": []
  },
  {
   "cell_type": "code",
   "execution_count": null,
   "metadata": {},
   "outputs": [],
   "source": []
  }
 ],
 "metadata": {
  "kernelspec": {
   "display_name": "Python 3",
   "language": "python",
   "name": "python3"
  },
  "language_info": {
   "codemirror_mode": {
    "name": "ipython",
    "version": 3
   },
   "file_extension": ".py",
   "mimetype": "text/x-python",
   "name": "python",
   "nbconvert_exporter": "python",
   "pygments_lexer": "ipython3",
   "version": "3.7.6"
  }
 },
 "nbformat": 4,
 "nbformat_minor": 4
}
